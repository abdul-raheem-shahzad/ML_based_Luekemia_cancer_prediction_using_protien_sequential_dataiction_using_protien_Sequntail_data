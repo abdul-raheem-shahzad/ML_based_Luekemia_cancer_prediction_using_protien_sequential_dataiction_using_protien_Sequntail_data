{
 "cells": [
  {
   "cell_type": "markdown",
   "metadata": {},
   "source": [
    "# <center> ***MACHINE LEARNING BASED LUEKAEMIA CANCER PREDICTION SYSTEM USING PROTEIN SEQUENTIAL DATA*** </center>\n"
   ]
  },
  {
   "cell_type": "markdown",
   "metadata": {},
   "source": [
    "## ***Note:***\n",
    "#### *The features are extracted from Di-peptide Compissiton Technique*"
   ]
  },
  {
   "cell_type": "markdown",
   "metadata": {},
   "source": [
    "# ***Table of Content***\n",
    "1. Importing Libraries.\n",
    "\n",
    "2. Collecting information about dataset.\n",
    "3. Spltting dataset into X and Y.\n",
    "4. Outliers Identification\n",
    "5. Outlier Removal.\n",
    "6. Null Value Checking.\n",
    "7. Dropping some Features.\n",
    "8. Filling NaN values\n",
    "9. Passing data through Machine Learning Algorithms\n",
    "\n",
    "    - SVM = 90% ~ 93%\n",
    "    \n",
    "    - Random Forest = 90% ~ 92%\n",
    "    - K Neighbour Classifier = 83% ~ 84%\n",
    "    - XG-Boost = 84% ~ 85%\n",
    "    - Decision Tree = 81% ~ 84%\n",
    "    - Logistic Regression = 66% ~ 67%\n",
    "    - ROC Curve for all the above algorithms"
   ]
  },
  {
   "cell_type": "markdown",
   "metadata": {},
   "source": [
    "### ***Importing Libraries***"
   ]
  },
  {
   "cell_type": "code",
   "execution_count": 1,
   "metadata": {},
   "outputs": [],
   "source": [
    "import numpy as np\n",
    "import seaborn as sns\n",
    "import pandas as pd\n",
    "import matplotlib.pyplot as plt\n",
    "from sklearn.svm import SVC\n",
    "from sklearn.tree import DecisionTreeClassifier\n",
    "from sklearn.linear_model import LogisticRegression\n",
    "from sklearn.ensemble import RandomForestClassifier\n",
    "from sklearn.neighbors import KNeighborsClassifier\n",
    "from sklearn import metrics\n",
    "from xgboost import XGBClassifier\n",
    "from sklearn.model_selection import train_test_split\n",
    "from sklearn.metrics import accuracy_score, f1_score, recall_score, confusion_matrix"
   ]
  },
  {
   "cell_type": "markdown",
   "metadata": {},
   "source": [
    "### ***Reading Dataset csv file***"
   ]
  },
  {
   "cell_type": "code",
   "execution_count": 2,
   "metadata": {},
   "outputs": [
    {
     "data": {
      "text/html": [
       "<div>\n",
       "<style scoped>\n",
       "    .dataframe tbody tr th:only-of-type {\n",
       "        vertical-align: middle;\n",
       "    }\n",
       "\n",
       "    .dataframe tbody tr th {\n",
       "        vertical-align: top;\n",
       "    }\n",
       "\n",
       "    .dataframe thead th {\n",
       "        text-align: right;\n",
       "    }\n",
       "</style>\n",
       "<table border=\"1\" class=\"dataframe\">\n",
       "  <thead>\n",
       "    <tr style=\"text-align: right;\">\n",
       "      <th></th>\n",
       "      <th>Var1_1</th>\n",
       "      <th>Var1_2</th>\n",
       "      <th>Var1_3</th>\n",
       "      <th>Var1_4</th>\n",
       "      <th>Var1_5</th>\n",
       "      <th>Var1_6</th>\n",
       "      <th>Var1_7</th>\n",
       "      <th>Var1_8</th>\n",
       "      <th>Var1_9</th>\n",
       "      <th>Var1_10</th>\n",
       "      <th>...</th>\n",
       "      <th>Var1_392</th>\n",
       "      <th>Var1_393</th>\n",
       "      <th>Var1_394</th>\n",
       "      <th>Var1_395</th>\n",
       "      <th>Var1_396</th>\n",
       "      <th>Var1_397</th>\n",
       "      <th>Var1_398</th>\n",
       "      <th>Var1_399</th>\n",
       "      <th>Var1_400</th>\n",
       "      <th>Label</th>\n",
       "    </tr>\n",
       "  </thead>\n",
       "  <tbody>\n",
       "    <tr>\n",
       "      <th>0</th>\n",
       "      <td>0.000000</td>\n",
       "      <td>0.00000</td>\n",
       "      <td>0.000000</td>\n",
       "      <td>0.00000</td>\n",
       "      <td>0.0</td>\n",
       "      <td>0.000000</td>\n",
       "      <td>0.000000</td>\n",
       "      <td>0.000000</td>\n",
       "      <td>0.0</td>\n",
       "      <td>0.005747</td>\n",
       "      <td>...</td>\n",
       "      <td>0.0</td>\n",
       "      <td>0.000000</td>\n",
       "      <td>0.011494</td>\n",
       "      <td>0.0</td>\n",
       "      <td>0.011494</td>\n",
       "      <td>0.00000</td>\n",
       "      <td>0.0</td>\n",
       "      <td>0.0</td>\n",
       "      <td>0.005747</td>\n",
       "      <td>1</td>\n",
       "    </tr>\n",
       "    <tr>\n",
       "      <th>1</th>\n",
       "      <td>0.017241</td>\n",
       "      <td>0.00431</td>\n",
       "      <td>0.004310</td>\n",
       "      <td>0.00431</td>\n",
       "      <td>0.0</td>\n",
       "      <td>0.008621</td>\n",
       "      <td>0.004310</td>\n",
       "      <td>0.008621</td>\n",
       "      <td>0.0</td>\n",
       "      <td>0.004310</td>\n",
       "      <td>...</td>\n",
       "      <td>0.0</td>\n",
       "      <td>0.000000</td>\n",
       "      <td>0.004310</td>\n",
       "      <td>0.0</td>\n",
       "      <td>0.004310</td>\n",
       "      <td>0.00431</td>\n",
       "      <td>0.0</td>\n",
       "      <td>0.0</td>\n",
       "      <td>0.012931</td>\n",
       "      <td>1</td>\n",
       "    </tr>\n",
       "    <tr>\n",
       "      <th>2</th>\n",
       "      <td>0.005076</td>\n",
       "      <td>0.00000</td>\n",
       "      <td>0.005076</td>\n",
       "      <td>0.00000</td>\n",
       "      <td>0.0</td>\n",
       "      <td>0.000000</td>\n",
       "      <td>0.015228</td>\n",
       "      <td>0.005076</td>\n",
       "      <td>0.0</td>\n",
       "      <td>0.005076</td>\n",
       "      <td>...</td>\n",
       "      <td>0.0</td>\n",
       "      <td>0.005076</td>\n",
       "      <td>0.000000</td>\n",
       "      <td>0.0</td>\n",
       "      <td>0.000000</td>\n",
       "      <td>0.00000</td>\n",
       "      <td>0.0</td>\n",
       "      <td>0.0</td>\n",
       "      <td>0.000000</td>\n",
       "      <td>1</td>\n",
       "    </tr>\n",
       "  </tbody>\n",
       "</table>\n",
       "<p>3 rows × 401 columns</p>\n",
       "</div>"
      ],
      "text/plain": [
       "     Var1_1   Var1_2    Var1_3   Var1_4  Var1_5    Var1_6    Var1_7    Var1_8  \\\n",
       "0  0.000000  0.00000  0.000000  0.00000     0.0  0.000000  0.000000  0.000000   \n",
       "1  0.017241  0.00431  0.004310  0.00431     0.0  0.008621  0.004310  0.008621   \n",
       "2  0.005076  0.00000  0.005076  0.00000     0.0  0.000000  0.015228  0.005076   \n",
       "\n",
       "   Var1_9   Var1_10  ...  Var1_392  Var1_393  Var1_394  Var1_395  Var1_396  \\\n",
       "0     0.0  0.005747  ...       0.0  0.000000  0.011494       0.0  0.011494   \n",
       "1     0.0  0.004310  ...       0.0  0.000000  0.004310       0.0  0.004310   \n",
       "2     0.0  0.005076  ...       0.0  0.005076  0.000000       0.0  0.000000   \n",
       "\n",
       "   Var1_397  Var1_398  Var1_399  Var1_400  Label  \n",
       "0   0.00000       0.0       0.0  0.005747      1  \n",
       "1   0.00431       0.0       0.0  0.012931      1  \n",
       "2   0.00000       0.0       0.0  0.000000      1  \n",
       "\n",
       "[3 rows x 401 columns]"
      ]
     },
     "execution_count": 2,
     "metadata": {},
     "output_type": "execute_result"
    }
   ],
   "source": [
    "df=pd.read_csv('CML_DC_Combined_1.csv')\n",
    "df.head(3)"
   ]
  },
  {
   "cell_type": "markdown",
   "metadata": {},
   "source": [
    "### ***Checking Shape of Dataset***"
   ]
  },
  {
   "cell_type": "code",
   "execution_count": 3,
   "metadata": {},
   "outputs": [
    {
     "data": {
      "text/plain": [
       "(3382, 401)"
      ]
     },
     "execution_count": 3,
     "metadata": {},
     "output_type": "execute_result"
    }
   ],
   "source": [
    "df.shape"
   ]
  },
  {
   "cell_type": "markdown",
   "metadata": {},
   "source": [
    "### ***Getting some information***"
   ]
  },
  {
   "cell_type": "code",
   "execution_count": 4,
   "metadata": {},
   "outputs": [
    {
     "name": "stdout",
     "output_type": "stream",
     "text": [
      "<class 'pandas.core.frame.DataFrame'>\n",
      "RangeIndex: 3382 entries, 0 to 3381\n",
      "Columns: 401 entries, Var1_1 to Label\n",
      "dtypes: float64(400), int64(1)\n",
      "memory usage: 10.3 MB\n"
     ]
    }
   ],
   "source": [
    "df.info()"
   ]
  },
  {
   "cell_type": "markdown",
   "metadata": {},
   "source": [
    "### ***Splitting into Input & Output***"
   ]
  },
  {
   "cell_type": "code",
   "execution_count": 5,
   "metadata": {},
   "outputs": [
    {
     "name": "stdout",
     "output_type": "stream",
     "text": [
      "Shape of X_input:(3382, 400)\n",
      "Shape of Y_output:(3382,)\n"
     ]
    }
   ],
   "source": [
    "X_input = df.iloc[:,0:400] \n",
    "Y_output = df.iloc[:,-1]\n",
    "print(f'Shape of X_input:{X_input.shape}\\nShape of Y_output:{Y_output.shape}')"
   ]
  },
  {
   "cell_type": "markdown",
   "metadata": {},
   "source": [
    "### ***Input data sample***"
   ]
  },
  {
   "cell_type": "code",
   "execution_count": 6,
   "metadata": {},
   "outputs": [
    {
     "name": "stdout",
     "output_type": "stream",
     "text": [
      "X_input sample:\n"
     ]
    },
    {
     "data": {
      "text/html": [
       "<div>\n",
       "<style scoped>\n",
       "    .dataframe tbody tr th:only-of-type {\n",
       "        vertical-align: middle;\n",
       "    }\n",
       "\n",
       "    .dataframe tbody tr th {\n",
       "        vertical-align: top;\n",
       "    }\n",
       "\n",
       "    .dataframe thead th {\n",
       "        text-align: right;\n",
       "    }\n",
       "</style>\n",
       "<table border=\"1\" class=\"dataframe\">\n",
       "  <thead>\n",
       "    <tr style=\"text-align: right;\">\n",
       "      <th></th>\n",
       "      <th>Var1_1</th>\n",
       "      <th>Var1_2</th>\n",
       "      <th>Var1_3</th>\n",
       "      <th>Var1_4</th>\n",
       "      <th>Var1_5</th>\n",
       "      <th>Var1_6</th>\n",
       "      <th>Var1_7</th>\n",
       "      <th>Var1_8</th>\n",
       "      <th>Var1_9</th>\n",
       "      <th>Var1_10</th>\n",
       "      <th>...</th>\n",
       "      <th>Var1_391</th>\n",
       "      <th>Var1_392</th>\n",
       "      <th>Var1_393</th>\n",
       "      <th>Var1_394</th>\n",
       "      <th>Var1_395</th>\n",
       "      <th>Var1_396</th>\n",
       "      <th>Var1_397</th>\n",
       "      <th>Var1_398</th>\n",
       "      <th>Var1_399</th>\n",
       "      <th>Var1_400</th>\n",
       "    </tr>\n",
       "  </thead>\n",
       "  <tbody>\n",
       "    <tr>\n",
       "      <th>2335</th>\n",
       "      <td>0.012111</td>\n",
       "      <td>0.001730</td>\n",
       "      <td>0.001730</td>\n",
       "      <td>0.005190</td>\n",
       "      <td>0.003460</td>\n",
       "      <td>0.010381</td>\n",
       "      <td>0.006920</td>\n",
       "      <td>0.001730</td>\n",
       "      <td>0.00173</td>\n",
       "      <td>0.001730</td>\n",
       "      <td>...</td>\n",
       "      <td>0.008651</td>\n",
       "      <td>0.003460</td>\n",
       "      <td>0.001730</td>\n",
       "      <td>0.001730</td>\n",
       "      <td>0.001730</td>\n",
       "      <td>0.006920</td>\n",
       "      <td>0.000000</td>\n",
       "      <td>0.00173</td>\n",
       "      <td>0.000000</td>\n",
       "      <td>0.003460</td>\n",
       "    </tr>\n",
       "    <tr>\n",
       "      <th>2783</th>\n",
       "      <td>0.004202</td>\n",
       "      <td>0.005042</td>\n",
       "      <td>0.007563</td>\n",
       "      <td>0.002521</td>\n",
       "      <td>0.000000</td>\n",
       "      <td>0.004202</td>\n",
       "      <td>0.003361</td>\n",
       "      <td>0.002521</td>\n",
       "      <td>0.00000</td>\n",
       "      <td>0.001681</td>\n",
       "      <td>...</td>\n",
       "      <td>0.006723</td>\n",
       "      <td>0.004202</td>\n",
       "      <td>0.001681</td>\n",
       "      <td>0.001681</td>\n",
       "      <td>0.010924</td>\n",
       "      <td>0.009244</td>\n",
       "      <td>0.006723</td>\n",
       "      <td>0.00000</td>\n",
       "      <td>0.002521</td>\n",
       "      <td>0.002521</td>\n",
       "    </tr>\n",
       "    <tr>\n",
       "      <th>3084</th>\n",
       "      <td>0.010922</td>\n",
       "      <td>0.001214</td>\n",
       "      <td>0.004854</td>\n",
       "      <td>0.001214</td>\n",
       "      <td>0.002427</td>\n",
       "      <td>0.003641</td>\n",
       "      <td>0.001214</td>\n",
       "      <td>0.003641</td>\n",
       "      <td>0.00000</td>\n",
       "      <td>0.000000</td>\n",
       "      <td>...</td>\n",
       "      <td>0.004854</td>\n",
       "      <td>0.006068</td>\n",
       "      <td>0.000000</td>\n",
       "      <td>0.001214</td>\n",
       "      <td>0.003641</td>\n",
       "      <td>0.004854</td>\n",
       "      <td>0.004854</td>\n",
       "      <td>0.00000</td>\n",
       "      <td>0.001214</td>\n",
       "      <td>0.004854</td>\n",
       "    </tr>\n",
       "  </tbody>\n",
       "</table>\n",
       "<p>3 rows × 400 columns</p>\n",
       "</div>"
      ],
      "text/plain": [
       "        Var1_1    Var1_2    Var1_3    Var1_4    Var1_5    Var1_6    Var1_7  \\\n",
       "2335  0.012111  0.001730  0.001730  0.005190  0.003460  0.010381  0.006920   \n",
       "2783  0.004202  0.005042  0.007563  0.002521  0.000000  0.004202  0.003361   \n",
       "3084  0.010922  0.001214  0.004854  0.001214  0.002427  0.003641  0.001214   \n",
       "\n",
       "        Var1_8   Var1_9   Var1_10  ...  Var1_391  Var1_392  Var1_393  \\\n",
       "2335  0.001730  0.00173  0.001730  ...  0.008651  0.003460  0.001730   \n",
       "2783  0.002521  0.00000  0.001681  ...  0.006723  0.004202  0.001681   \n",
       "3084  0.003641  0.00000  0.000000  ...  0.004854  0.006068  0.000000   \n",
       "\n",
       "      Var1_394  Var1_395  Var1_396  Var1_397  Var1_398  Var1_399  Var1_400  \n",
       "2335  0.001730  0.001730  0.006920  0.000000   0.00173  0.000000  0.003460  \n",
       "2783  0.001681  0.010924  0.009244  0.006723   0.00000  0.002521  0.002521  \n",
       "3084  0.001214  0.003641  0.004854  0.004854   0.00000  0.001214  0.004854  \n",
       "\n",
       "[3 rows x 400 columns]"
      ]
     },
     "execution_count": 6,
     "metadata": {},
     "output_type": "execute_result"
    }
   ],
   "source": [
    "print('X_input sample:')\n",
    "X_input.sample(3)"
   ]
  },
  {
   "cell_type": "markdown",
   "metadata": {},
   "source": [
    "### ***Output data sample***"
   ]
  },
  {
   "cell_type": "code",
   "execution_count": 7,
   "metadata": {},
   "outputs": [
    {
     "name": "stdout",
     "output_type": "stream",
     "text": [
      "Y_output sample:\n"
     ]
    },
    {
     "data": {
      "text/plain": [
       "1158    0\n",
       "373     1\n",
       "946     1\n",
       "Name: Label, dtype: int64"
      ]
     },
     "execution_count": 7,
     "metadata": {},
     "output_type": "execute_result"
    }
   ],
   "source": [
    "print('Y_output sample:')\n",
    "Y_output.sample(3)"
   ]
  },
  {
   "cell_type": "markdown",
   "metadata": {},
   "source": [
    "## ***Checking Outliers***"
   ]
  },
  {
   "cell_type": "code",
   "execution_count": 8,
   "metadata": {},
   "outputs": [
    {
     "data": {
      "text/plain": [
       "(-0.01, 0.3)"
      ]
     },
     "execution_count": 8,
     "metadata": {},
     "output_type": "execute_result"
    },
    {
     "data": {
      "image/png": "[encoded data removed]",
      "text/plain": [
       "<Figure size 432x288 with 1 Axes>"
      ]
     },
     "metadata": {
      "needs_background": "light"
     },
     "output_type": "display_data"
    }
   ],
   "source": [
    "sns.boxplot(data=X_input)\n",
    "plt.ylim(-0.01,0.3)\n"
   ]
  },
  {
   "cell_type": "code",
   "execution_count": 9,
   "metadata": {},
   "outputs": [
    {
     "data": {
      "text/plain": [
       "<AxesSubplot:>"
      ]
     },
     "execution_count": 9,
     "metadata": {},
     "output_type": "execute_result"
    },
    {
     "data": {
      "image/png": "[encoded data removed]",
      "text/plain": [
       "<Figure size 432x288 with 1 Axes>"
      ]
     },
     "metadata": {
      "needs_background": "light"
     },
     "output_type": "display_data"
    }
   ],
   "source": [
    "sns.boxplot(data=pd.melt(X_input))"
   ]
  },
  {
   "cell_type": "markdown",
   "metadata": {},
   "source": [
    "### ***Removing Outliers***"
   ]
  },
  {
   "cell_type": "code",
   "execution_count": 10,
   "metadata": {},
   "outputs": [],
   "source": [
    "max_threshold = X_input.quantile(0.95)\n",
    "min_threshold = X_input.quantile(0.01)\n",
    "X_input_removed_outliers = X_input[(X_input<max_threshold)&(X_input>min_threshold)]"
   ]
  },
  {
   "cell_type": "markdown",
   "metadata": {},
   "source": [
    "### ***Results***"
   ]
  },
  {
   "cell_type": "code",
   "execution_count": 11,
   "metadata": {},
   "outputs": [
    {
     "data": {
      "text/plain": [
       "(-0.01, 0.3)"
      ]
     },
     "execution_count": 11,
     "metadata": {},
     "output_type": "execute_result"
    },
    {
     "data": {
      "image/png": "[encoded data removed]",
      "text/plain": [
       "<Figure size 432x288 with 1 Axes>"
      ]
     },
     "metadata": {
      "needs_background": "light"
     },
     "output_type": "display_data"
    }
   ],
   "source": [
    "sns.boxplot(data=X_input_removed_outliers)\n",
    "plt.ylim(-0.01,0.3)"
   ]
  },
  {
   "cell_type": "code",
   "execution_count": 12,
   "metadata": {},
   "outputs": [
    {
     "data": {
      "text/plain": [
       "<AxesSubplot:>"
      ]
     },
     "execution_count": 12,
     "metadata": {},
     "output_type": "execute_result"
    },
    {
     "data": {
      "image/png": "[encoded data removed]",
      "text/plain": [
       "<Figure size 432x288 with 1 Axes>"
      ]
     },
     "metadata": {
      "needs_background": "light"
     },
     "output_type": "display_data"
    }
   ],
   "source": [
    "sns.boxplot(data=pd.melt(X_input_removed_outliers))"
   ]
  },
  {
   "cell_type": "markdown",
   "metadata": {},
   "source": [
    "## ***Now Checking Null values***"
   ]
  },
  {
   "cell_type": "code",
   "execution_count": 13,
   "metadata": {},
   "outputs": [],
   "source": [
    "null_checking=X_input_removed_outliers.isnull().sum()\n",
    "null_checking = null_checking.to_frame()\n"
   ]
  },
  {
   "cell_type": "markdown",
   "metadata": {},
   "source": [
    "### ***Note***\n",
    "- *Dropping those columns where*"
   ]
  },
  {
   "cell_type": "code",
   "execution_count": 14,
   "metadata": {},
   "outputs": [],
   "source": [
    "X_input_dropped = X_input_removed_outliers.drop(columns=['Var1_5','Var1_9','Var1_18','Var1_19','Var1_25','Var1_29','Var1_33','Var1_38','Var1_43','Var1_44','Var1_45','Var1_47','Var1_49','Var1_53','Var1_54','Var1_58','Var1_59','Var1_63','Var1_65','Var1_69','Var1_73','Var1_78','Var1_79','Var1_81','Var1_82','Var1_83','Var1_84','Var1_85','Var1_86','Var1_87','Var1_88','Var1_89','Var1_90','Var1_92','Var1_93','Var1_94','Var1_95','Var1_96','Var1_97','Var1_98','Var1_99','Var1_100','Var1_105','Var1_109','Var1_118','Var1_123','Var1_125','Var1_129','Var1_133','Var1_138','Var1_139','Var1_145','Var1_153','Var1_158','Var1_161','Var1_162','Var1_163','Var1_164','Var1_165','Var1_166','Var1_167','Var1_168','Var1_169','Var1_170','Var1_172','Var1_173','Var1_174','Var1_175','Var1_177','Var1_178','Var1_179','Var1_180','Var1_185','Var1_189','Var1_193','Var1_194','Var1_198','Var1_199','Var1_218','Var1_225','Var1_229','Var1_233','Var1_239','Var1_241','Var1_242','Var1_243','Var1_244','Var1_245','Var1_246','Var1_247','Var1_248','Var1_249','Var1_250','Var1_252','Var1_253','Var1_254','Var1_255','Var1_256','Var1_257','Var1_258','Var1_259','Var1_260','Var1_262','Var1_263','Var1_264','Var1_265','Var1_267','Var1_268','Var1_269','Var1_270','Var1_272','Var1_273','Var1_274','Var1_275','Var1_276','Var1_277','Var1_278','Var1_279','Var1_285','Var1_289','Var1_293','Var1_298','Var1_299','Var1_305','Var1_313','Var1_318','Var1_325','Var1_329','Var1_333','Var1_338','Var1_339','Var1_340','Var1_341','Var1_342','Var1_343','Var1_344','Var1_345','Var1_346','Var1_347','Var1_348','Var1_349','Var1_350','Var1_352','Var1_353','Var1_354','Var1_355','Var1_356','Var1_357','Var1_358','Var1_359','Var1_360','Var1_362','Var1_263','Var1_364','Var1_365','Var1_367','Var1_368','Var1_369','Var1_370','Var1_372','Var1_373','Var1_374','Var1_375','Var1_376','Var1_377','Var1_378','Var1_379','Var1_385','Var1_389','Var1_393','Var1_398','Var1_399'])"
   ]
  },
  {
   "cell_type": "markdown",
   "metadata": {},
   "source": [
    "### ***Checking Mean values of each column***"
   ]
  },
  {
   "cell_type": "code",
   "execution_count": 15,
   "metadata": {},
   "outputs": [
    {
     "data": {
      "text/plain": [
       "Var1_1      0.007501\n",
       "Var1_2      0.004626\n",
       "Var1_3      0.002974\n",
       "Var1_4      0.003760\n",
       "Var1_6      0.005792\n",
       "              ...   \n",
       "Var1_394    0.003121\n",
       "Var1_395    0.004600\n",
       "Var1_396    0.005008\n",
       "Var1_397    0.004461\n",
       "Var1_400    0.004731\n",
       "Length: 229, dtype: float64"
      ]
     },
     "execution_count": 15,
     "metadata": {},
     "output_type": "execute_result"
    }
   ],
   "source": [
    "mean=X_input_dropped.mean()\n",
    "mean"
   ]
  },
  {
   "cell_type": "markdown",
   "metadata": {},
   "source": [
    "### ***Filling Null values of each column with its mean***"
   ]
  },
  {
   "cell_type": "code",
   "execution_count": 16,
   "metadata": {},
   "outputs": [],
   "source": [
    "X_input_new=X_input_dropped.fillna(mean)"
   ]
  },
  {
   "cell_type": "code",
   "execution_count": 17,
   "metadata": {},
   "outputs": [
    {
     "data": {
      "text/plain": [
       "(3382, 229)"
      ]
     },
     "execution_count": 17,
     "metadata": {},
     "output_type": "execute_result"
    }
   ],
   "source": [
    "X_input_new.shape"
   ]
  },
  {
   "cell_type": "markdown",
   "metadata": {},
   "source": [
    "### ***After filling Null values:***\n",
    "#### - ***we will make sure there is no NaN values in dataset***"
   ]
  },
  {
   "cell_type": "code",
   "execution_count": 18,
   "metadata": {},
   "outputs": [
    {
     "data": {
      "text/plain": [
       "Var1_1      0\n",
       "Var1_2      0\n",
       "Var1_3      0\n",
       "Var1_4      0\n",
       "Var1_6      0\n",
       "           ..\n",
       "Var1_394    0\n",
       "Var1_395    0\n",
       "Var1_396    0\n",
       "Var1_397    0\n",
       "Var1_400    0\n",
       "Length: 229, dtype: int64"
      ]
     },
     "execution_count": 18,
     "metadata": {},
     "output_type": "execute_result"
    }
   ],
   "source": [
    "X_input_new.isnull().sum()"
   ]
  },
  {
   "cell_type": "markdown",
   "metadata": {},
   "source": [
    "## <center>***Passing Data to Machine Learning Algorithms***</center>"
   ]
  },
  {
   "cell_type": "markdown",
   "metadata": {},
   "source": [
    "### ***Implementing Decision Tree Classifier***"
   ]
  },
  {
   "cell_type": "code",
   "execution_count": 30,
   "metadata": {},
   "outputs": [
    {
     "name": "stdout",
     "output_type": "stream",
     "text": [
      "the accuracy score is:0.843426883308715\n",
      "the f1-score is:0.7180851063829787\n",
      "the recall-score is:0.5947136563876652\n",
      "the confusion_matrix is:[[436  14]\n",
      " [ 92 135]]\n",
      "Specificity is: 0.9688888888888889\n",
      "Precision is: 0.9060402684563759\n"
     ]
    }
   ],
   "source": [
    "X_train,X_test,Y_train,Y_test = train_test_split(X_input_new,Y_output,test_size=0.2)\n",
    "dt_model = DecisionTreeClassifier(random_state=50,min_samples_leaf=1).fit(X_train,Y_train)\n",
    "Y_predicted = dt_model.predict(X_test)\n",
    "# in line 5 Y_test means Y_true\n",
    "score = accuracy_score(Y_test,Y_predicted)\n",
    "print(f'the accuracy score is:{score}')\n",
    "f1 = f1_score(Y_test,Y_predicted)\n",
    "print(f'the f1-score is:{f1}')\n",
    "rcl = recall_score(Y_test,Y_predicted)\n",
    "print(f'the recall-score is:{rcl}')\n",
    "con_matrix = confusion_matrix(Y_test,Y_predicted)\n",
    "print(f'the confusion_matrix is:{con_matrix}')\n",
    "tn, fp, fn, tp = con_matrix.ravel() # ravel is used to flatten returns contiguous flattened array\n",
    "specificity = tn / (tn+fp)\n",
    "print(f'Specificity is:',specificity)\n",
    "precision = tp / (tp+fp)\n",
    "print(f'Precision is:',precision)\n",
    "# saving model using pickle\n",
    "import pickle\n",
    "pickle.dump(dt_model,open('dt_model.pkl','wb'))"
   ]
  },
  {
   "cell_type": "markdown",
   "metadata": {},
   "source": [
    "### ***ROC_Curve for Decision Tree***"
   ]
  },
  {
   "cell_type": "code",
   "execution_count": 31,
   "metadata": {},
   "outputs": [
    {
     "data": {
      "image/png": "[encoded data removed]",
      "text/plain": [
       "<Figure size 432x288 with 1 Axes>"
      ]
     },
     "metadata": {
      "needs_background": "light"
     },
     "output_type": "display_data"
    }
   ],
   "source": [
    "y_pred_proba = dt_model.predict_proba(X_test)[::,1]\n",
    "fpr, tpr, _ = metrics.roc_curve(Y_test,  y_pred_proba)\n",
    "\n",
    "#create ROC curve\n",
    "plt.plot(fpr,tpr)\n",
    "plt.ylabel('True Positive Rate')\n",
    "plt.xlabel('False Positive Rate')\n",
    "plt.show()"
   ]
  },
  {
   "cell_type": "markdown",
   "metadata": {},
   "source": [
    "### ***Implementing Random Forest Classifier***"
   ]
  },
  {
   "cell_type": "code",
   "execution_count": 32,
   "metadata": {},
   "outputs": [
    {
     "name": "stdout",
     "output_type": "stream",
     "text": [
      "the accuracy score is:0.8005908419497785\n",
      "the f1-score is:0.5994065281899109\n",
      "the recall-score is:0.45701357466063347\n",
      "the confusion_matrix is:[[441  15]\n",
      " [120 101]]\n",
      "Specificity is: 0.9671052631578947\n",
      "Precision is: 0.8706896551724138\n"
     ]
    }
   ],
   "source": [
    "X_train,X_test,Y_train,Y_test = train_test_split(X_input_new,Y_output,test_size=0.2)\n",
    "rf_model = RandomForestClassifier(n_estimators=150,max_depth=160).fit(X_train,Y_train)\n",
    "Y_predicted = rf_model.predict(X_test)\n",
    "# in line 5 Y_test means Y_true\n",
    "score = accuracy_score(Y_test,Y_predicted)\n",
    "print(f'the accuracy score is:{score}')\n",
    "f1 = f1_score(Y_test,Y_predicted)\n",
    "print(f'the f1-score is:{f1}')\n",
    "rcl = recall_score(Y_test,Y_predicted)\n",
    "print(f'the recall-score is:{rcl}')\n",
    "con_matrix = confusion_matrix(Y_test,Y_predicted)\n",
    "print(f'the confusion_matrix is:{con_matrix}')\n",
    "tn, fp, fn, tp = con_matrix.ravel() # ravel is used to flatten returns contiguous flattened array\n",
    "specificity = tn / (tn+fp)\n",
    "print(f'Specificity is:',specificity)\n",
    "precision = tp / (tp+fp)\n",
    "print(f'Precision is:',precision)\n",
    "# saving model using pickle\n",
    "pickle.dump(rf_model,open('rf_model.pkl','wb'))\n"
   ]
  },
  {
   "cell_type": "markdown",
   "metadata": {},
   "source": [
    "### ***ROC_Curve for Random Forest***"
   ]
  },
  {
   "cell_type": "code",
   "execution_count": 34,
   "metadata": {},
   "outputs": [
    {
     "data": {
      "image/png": "[encoded data removed]",
      "text/plain": [
       "<Figure size 432x288 with 1 Axes>"
      ]
     },
     "metadata": {
      "needs_background": "light"
     },
     "output_type": "display_data"
    }
   ],
   "source": [
    "y_pred_proba = rf_model.predict_proba(X_test)[::,1]\n",
    "fpr, tpr, _ = metrics.roc_curve(Y_test,  y_pred_proba)\n",
    "\n",
    "#create ROC curve\n",
    "plt.plot(fpr,tpr)\n",
    "plt.ylabel('True Positive Rate')\n",
    "plt.xlabel('False Positive Rate')\n",
    "plt.show()"
   ]
  },
  {
   "cell_type": "markdown",
   "metadata": {},
   "source": [
    "### ***Implementing Logistic Regression***"
   ]
  },
  {
   "cell_type": "code",
   "execution_count": 35,
   "metadata": {},
   "outputs": [
    {
     "name": "stdout",
     "output_type": "stream",
     "text": [
      "the accuracy score is:0.6573116691285081\n",
      "the f1-score is:0.0\n",
      "the recall-score is:0.0\n",
      "the confusion_matrix is:[[445   0]\n",
      " [232   0]]\n",
      "Specificity is: 1.0\n",
      "Precision is: nan\n"
     ]
    },
    {
     "name": "stderr",
     "output_type": "stream",
     "text": [
      "C:\\Users\\CU-43\\AppData\\Local\\Temp\\ipykernel_10664\\518390091.py:17: RuntimeWarning: invalid value encountered in longlong_scalars\n",
      "  precision = tp / (tp+fp)\n"
     ]
    }
   ],
   "source": [
    "X_train,X_test,Y_train,Y_test = train_test_split(X_input_new,Y_output,test_size=0.2)\n",
    "lr_model = LogisticRegression(C=10,penalty='l2',tol=0.1).fit(X_train,Y_train)\n",
    "Y_predicted = lr_model.predict(X_test)\n",
    "# in line 5 Y_test means Y_true\n",
    "score = accuracy_score(Y_test,Y_predicted)\n",
    "print(f'the accuracy score is:{score}')\n",
    "f1 = f1_score(Y_test,Y_predicted)\n",
    "print(f'the f1-score is:{f1}')\n",
    "#Recall (aka Sensitivity)\n",
    "rcl = recall_score(Y_test,Y_predicted)\n",
    "print(f'the recall-score is:{rcl}')\n",
    "con_matrix = confusion_matrix(Y_test,Y_predicted)\n",
    "print(f'the confusion_matrix is:{con_matrix}')\n",
    "tn, fp, fn, tp = con_matrix.ravel() # ravel is used to flatten returns contiguous flattened array\n",
    "specificity = tn / (tn+fp)\n",
    "print(f'Specificity is:',specificity)\n",
    "precision = tp / (tp+fp)\n",
    "print(f'Precision is:',precision)\n",
    "# saving model using pickle\n",
    "pickle.dump(lr_model,open('lr_model.pkl','wb'))"
   ]
  },
  {
   "cell_type": "markdown",
   "metadata": {},
   "source": [
    "### ***ROC_Curve for Logistic Reggrestion***"
   ]
  },
  {
   "cell_type": "code",
   "execution_count": 36,
   "metadata": {},
   "outputs": [
    {
     "data": {
      "image/png": "[encoded data removed]",
      "text/plain": [
       "<Figure size 432x288 with 1 Axes>"
      ]
     },
     "metadata": {
      "needs_background": "light"
     },
     "output_type": "display_data"
    }
   ],
   "source": [
    "y_pred_proba = lr_model.predict_proba(X_test)[::,1]\n",
    "fpr, tpr, _ = metrics.roc_curve(Y_test,  y_pred_proba)\n",
    "\n",
    "#create ROC curve\n",
    "plt.plot(fpr,tpr)\n",
    "plt.ylabel('True Positive Rate')\n",
    "plt.xlabel('False Positive Rate')\n",
    "plt.show()"
   ]
  },
  {
   "cell_type": "markdown",
   "metadata": {},
   "source": [
    "### ***Implementing Support Vector Classifier***"
   ]
  },
  {
   "cell_type": "code",
   "execution_count": 37,
   "metadata": {},
   "outputs": [
    {
     "name": "stdout",
     "output_type": "stream",
     "text": [
      "the accuracy score is:0.9409158050221565\n",
      "the f1-score is:0.9148936170212766\n",
      "the recall-score is:0.9267241379310345\n",
      "the confusion_matrix is:[[422  23]\n",
      " [ 17 215]]\n",
      "Specificity is: 0.9483146067415731\n",
      "Precision is: 0.9033613445378151\n"
     ]
    }
   ],
   "source": [
    "svc_model = SVC(kernel='rbf',  C=1000,gamma=1000000,probability=True).fit(X_train,Y_train)\n",
    "Y_predicted = svc_model.predict(X_test)\n",
    "# in line 5 Y_test means Y_true\n",
    "score = accuracy_score(Y_test,Y_predicted)\n",
    "print(f'the accuracy score is:{score}')\n",
    "f1 = f1_score(Y_test,Y_predicted)\n",
    "print(f'the f1-score is:{f1}')\n",
    "#Recall (aka Sensitivity)\n",
    "rcl = recall_score(Y_test,Y_predicted)\n",
    "print(f'the recall-score is:{rcl}')\n",
    "con_matrix = confusion_matrix(Y_test,Y_predicted)\n",
    "print(f'the confusion_matrix is:{con_matrix}')\n",
    "tn, fp, fn, tp = con_matrix.ravel() # ravel is used to flatten returns contiguous flattened array\n",
    "specificity = tn / (tn+fp)\n",
    "print(f'Specificity is:',specificity)\n",
    "precision = tp / (tp+fp)\n",
    "print(f'Precision is:',precision)\n",
    "# saving model using pickle\n",
    "pickle.dump(svc_model,open('svc_model.pkl','wb'))"
   ]
  },
  {
   "cell_type": "markdown",
   "metadata": {},
   "source": [
    "### ***ROC_Curve for SVC***"
   ]
  },
  {
   "cell_type": "code",
   "execution_count": 38,
   "metadata": {},
   "outputs": [
    {
     "data": {
      "image/png": "[encoded data removed]",
      "text/plain": [
       "<Figure size 432x288 with 1 Axes>"
      ]
     },
     "metadata": {
      "needs_background": "light"
     },
     "output_type": "display_data"
    }
   ],
   "source": [
    "y_pred_proba = svc_model.predict_proba(X_test)[::,1]\n",
    "fpr, tpr, _ = metrics.roc_curve(Y_test,  y_pred_proba)\n",
    "\n",
    "#create ROC curve\n",
    "plt.plot(fpr,tpr)\n",
    "plt.ylabel('True Positive Rate')\n",
    "plt.xlabel('False Positive Rate')\n",
    "plt.show()"
   ]
  },
  {
   "cell_type": "markdown",
   "metadata": {},
   "source": [
    "### ***Implementing K Neighbour Classifier***"
   ]
  },
  {
   "cell_type": "code",
   "execution_count": 39,
   "metadata": {},
   "outputs": [
    {
     "name": "stdout",
     "output_type": "stream",
     "text": [
      "the accuracy score is:0.7193500738552437\n",
      "the f1-score is:0.3831168831168831\n",
      "the recall-score is:0.2543103448275862\n",
      "the confusion_matrix is:[[428  17]\n",
      " [173  59]]\n",
      "Specificity is: 0.9617977528089887\n",
      "Precision is: 0.7763157894736842\n"
     ]
    }
   ],
   "source": [
    "\n",
    "knn_model = KNeighborsClassifier(n_neighbors=1).fit(X_train,Y_train)\n",
    "Y_predicted = knn_model.predict(X_test)\n",
    "# in line 5 Y_test means Y_true\n",
    "score = accuracy_score(Y_test,Y_predicted)\n",
    "print(f'the accuracy score is:{score}')\n",
    "f1 = f1_score(Y_test,Y_predicted)\n",
    "print(f'the f1-score is:{f1}')\n",
    "#Recall (aka Sensitivity)\n",
    "rcl = recall_score(Y_test,Y_predicted)\n",
    "print(f'the recall-score is:{rcl}')\n",
    "con_matrix = confusion_matrix(Y_test,Y_predicted)\n",
    "print(f'the confusion_matrix is:{con_matrix}')\n",
    "tn, fp, fn, tp = con_matrix.ravel() # ravel is used to flatten returns contiguous flattened array\n",
    "specificity = tn / (tn+fp)\n",
    "print(f'Specificity is:',specificity)\n",
    "precision = tp / (tp+fp)\n",
    "print(f'Precision is:',precision)\n",
    "# saving model using pickle\n",
    "pickle.dump(knn_model,open('knn_model.pkl','wb'))\n"
   ]
  },
  {
   "cell_type": "markdown",
   "metadata": {},
   "source": [
    "### ***Implementing XG Boost***"
   ]
  },
  {
   "cell_type": "code",
   "execution_count": 40,
   "metadata": {},
   "outputs": [
    {
     "name": "stdout",
     "output_type": "stream",
     "text": [
      "the accuracy score is:0.8153618906942393\n",
      "the f1-score is:0.6753246753246753\n",
      "the recall-score is:0.5531914893617021\n",
      "the confusion_matrix is:[[422  20]\n",
      " [105 130]]\n",
      "Specificity is: 0.9547511312217195\n",
      "Precision is: 0.8666666666666667\n"
     ]
    }
   ],
   "source": [
    "X_train,X_test,Y_train,Y_test = train_test_split(X_input_new,Y_output,test_size=0.2)\n",
    "xgb_model = XGBClassifier(learning_rate =0.5,n_estimators=120).fit(X_train,Y_train)\n",
    "Y_predicted = xgb_model.predict(X_test)\n",
    "# in line 5 Y_test means Y_true\n",
    "score = accuracy_score(Y_test,Y_predicted)\n",
    "print(f'the accuracy score is:{score}')\n",
    "f1 = f1_score(Y_test,Y_predicted)\n",
    "print(f'the f1-score is:{f1}')\n",
    "rcl = recall_score(Y_test,Y_predicted)\n",
    "print(f'the recall-score is:{rcl}')\n",
    "con_matrix = confusion_matrix(Y_test,Y_predicted)\n",
    "print(f'the confusion_matrix is:{con_matrix}')\n",
    "tn, fp, fn, tp = con_matrix.ravel() # ravel is used to flatten returns contiguous flattened array\n",
    "specificity = tn / (tn+fp)\n",
    "print(f'Specificity is:',specificity)\n",
    "precision = tp / (tp+fp)\n",
    "print(f'Precision is:',precision)\n",
    "# saving model using pickle\n",
    "pickle.dump(xgb_model,open('xgb_model.pkl','wb'))\n",
    "\n",
    "\n",
    "\n",
    "\n"
   ]
  },
  {
   "cell_type": "markdown",
   "metadata": {},
   "source": [
    "### ***ROC_Curve for XG Bosst***"
   ]
  },
  {
   "cell_type": "code",
   "execution_count": 43,
   "metadata": {},
   "outputs": [
    {
     "data": {
      "image/png": "[encoded data removed]",
      "text/plain": [
       "<Figure size 432x288 with 1 Axes>"
      ]
     },
     "metadata": {
      "needs_background": "light"
     },
     "output_type": "display_data"
    }
   ],
   "source": [
    "y_pred_proba = xgb_model.predict_proba(X_test)[::,1]\n",
    "fpr, tpr, _ = metrics.roc_curve(Y_test,  y_pred_proba)\n",
    "\n",
    "#create ROC curve\n",
    "plt.plot(fpr,tpr)\n",
    "plt.ylabel('True Positive Rate')\n",
    "plt.xlabel('False Positive Rate')\n",
    "plt.show()"
   ]
  },
  {
   "cell_type": "markdown",
   "metadata": {},
   "source": [
    "******"
   ]
  }
 ],
 "metadata": {
  "kernelspec": {
   "display_name": "Python 3.10.8 64-bit",
   "language": "python",
   "name": "python3"
  },
  "language_info": {
   "codemirror_mode": {
    "name": "ipython",
    "version": 3
   },
   "file_extension": ".py",
   "mimetype": "text/x-python",
   "name": "python",
   "nbconvert_exporter": "python",
   "pygments_lexer": "ipython3",
   "version": "3.10.8"
  },
  "orig_nbformat": 4,
  "vscode": {
   "interpreter": {
    "hash": "fe00a3ae1c6c3a47c5812e7b401f0afb9b5ecd3be64a6353fd258f29b5686a09"
   }
  }
 },
 "nbformat": 4,
 "nbformat_minor": 2
}
